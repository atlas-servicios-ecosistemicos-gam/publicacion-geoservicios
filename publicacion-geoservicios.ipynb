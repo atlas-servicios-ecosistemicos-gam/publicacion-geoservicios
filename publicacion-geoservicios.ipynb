{
 "cells": [
  {
   "cell_type": "markdown",
   "metadata": {},
   "source": [
    "# Publicación de geoservicios"
   ]
  },
  {
   "cell_type": "markdown",
   "metadata": {},
   "source": [
    "**NOTA IMPORTANTE:** **Este notebook solamente funciona en Windows. Las pruebas en Ubuntu no dieron resultado.**"
   ]
  },
  {
   "cell_type": "code",
   "execution_count": 1,
   "metadata": {},
   "outputs": [],
   "source": [
    "import os\n",
    "import glob\n",
    "import subprocess\n",
    "\n",
    "from IPython.display import display\n",
    "\n",
    "from arcgis.gis import GIS"
   ]
  },
  {
   "cell_type": "markdown",
   "metadata": {},
   "source": [
    "## Funciones de uso general"
   ]
  },
  {
   "cell_type": "code",
   "execution_count": 2,
   "metadata": {},
   "outputs": [],
   "source": [
    "def sub_data_dir_prefix(sub_data_dir):\n",
    "    if (sub_data_dir == \"conectividad/gam/\"):\n",
    "        return \"gam_conectividad_\"\n",
    "    elif (sub_data_dir == \"conectividad/cbima/\"):\n",
    "        return \"gam_conectividad_\"\n",
    "    elif (sub_data_dir == \"limites/\"):\n",
    "        return \"gam_\"        \n",
    "    else:\n",
    "        return \"\""
   ]
  },
  {
   "cell_type": "markdown",
   "metadata": {},
   "source": [
    "## Conexión al servidor"
   ]
  },
  {
   "cell_type": "code",
   "execution_count": 4,
   "metadata": {},
   "outputs": [],
   "source": [
    "# Credenciales para ingresar al servidor ArcGIS Online\n",
    "#username = \"usuario\"\n",
    "#password = \"clave\"\n",
    "username = \"MVargas5\"\n",
    "password = \"Mfvd_15688087\"\n",
    "\n",
    "# Servidor ArcGIS Online\n",
    "gis = GIS(\"https://geocatie.maps.arcgis.com/\", username, password)"
   ]
  },
  {
   "cell_type": "markdown",
   "metadata": {},
   "source": [
    "## Rutas de directorios y archivos"
   ]
  },
  {
   "cell_type": "code",
   "execution_count": 5,
   "metadata": {},
   "outputs": [],
   "source": [
    "# Ruta base\n",
    "base_data_dir = \"C:/Users/mfvargas/atlas-servicios-ecosistemicos-gam/datos-fuentes-originales/\"\n",
    "\n",
    "# Lista de directorios (se supone que son los mismos de la función sub_data_dir_prefix())\n",
    "sub_data_dirs = [\"conectividad/gam/\",\n",
    "                 \"conectividad/cbima/\",\n",
    "                 \"limites/\"]\n",
    "\n",
    "services_file_name = \"C:/Users/mfvargas/atlas-servicios-ecosistemicos-gam/publicacion-geoservicios/servicios.md\""
   ]
  },
  {
   "cell_type": "markdown",
   "metadata": {},
   "source": [
    "## Limpieza de archivos generados previamente"
   ]
  },
  {
   "cell_type": "code",
   "execution_count": 6,
   "metadata": {},
   "outputs": [],
   "source": [
    "for sub_data_dir in sub_data_dirs:\n",
    "    os.chdir(\"{0}{1}\".format(base_data_dir, sub_data_dir))\n",
    "    \n",
    "    # Borrado de archivos ZIP generados previamente\n",
    "    for zipfile in glob.glob('*.zip'):\n",
    "        try:\n",
    "            os.remove(zipfile)\n",
    "        except:\n",
    "            print(\"Error al borrar el archivo:\", zipfile)"
   ]
  },
  {
   "cell_type": "markdown",
   "metadata": {},
   "source": [
    "## Conversión de formatos"
   ]
  },
  {
   "cell_type": "markdown",
   "metadata": {},
   "source": [
    "shp -> shp.zip"
   ]
  },
  {
   "cell_type": "code",
   "execution_count": 7,
   "metadata": {},
   "outputs": [
    {
     "name": "stdout",
     "output_type": "stream",
     "text": [
      "PARCHES_ESENCIALES_IMPORTANTES_BRIPARIO.shp -> gam_conectividad_parches_esenciales_importantes_bripario.shp.zip\n",
      "RUTAS_CONECTIVIDAD_BOSQUE_BRIPARIO.shp -> gam_conectividad_rutas_conectividad_bosque_bripario.shp.zip\n",
      "PARCHES_ESENCIALES_IMPORTANTES_BOSQUE_MA.shp -> gam_conectividad_parches_esenciales_importantes_bosque_ma.shp.zip\n",
      "RUTAS_CONECTIVIDAD_BOSQUE_MA.shp -> gam_conectividad_rutas_conectividad_bosque_ma.shp.zip\n",
      "limite_CBI_Maria_Aguilar.shp -> gam_limite_cbi_maria_aguilar.shp.zip\n",
      "Limite_CBI_Rio_Torres.shp -> gam_limite_cbi_rio_torres.shp.zip\n",
      "Limite_corredores.shp -> gam_limite_corredores.shp.zip\n",
      "Limite_corredores_cantones.shp -> gam_limite_corredores_cantones.shp.zip\n",
      "Limite_Curridabat.shp -> gam_limite_curridabat.shp.zip\n",
      "Limite_GAM.shp -> gam_limite_gam.shp.zip\n",
      "Limite_La_Union.shp -> gam_limite_la_union.shp.zip\n",
      "limite_montes_de_oca.shp -> gam_limite_montes_de_oca.shp.zip\n",
      "Limite_San_Jose.shp -> gam_limite_san_jose.shp.zip\n"
     ]
    }
   ],
   "source": [
    "for sub_data_dir in sub_data_dirs:\n",
    "    os.chdir(\"{0}{1}\".format(base_data_dir, sub_data_dir))\n",
    "\n",
    "    # Generación de nuevos archivos ZIP\n",
    "    for shapefile in glob.glob(\"*.shp\"):\n",
    "        shapefile_name, shapefile_extension = os.path.splitext(shapefile)\n",
    "        \n",
    "        # Transformación de formato: .shp -> .shp.zip\n",
    "        print(\"{1} -> {0}{2}.zip\".format(sub_data_dir_prefix(sub_data_dir), shapefile, shapefile.lower()))     \n",
    "        subprocess.call(\n",
    "            'ogr2ogr -f \"ESRI Shapefile\" -nln {0}{1} -t_srs EPSG:4326 -makevalid {0}{1}.shp.zip {2}'.format(sub_data_dir_prefix(sub_data_dir), shapefile_name.lower(), shapefile), \n",
    "            shell=True)"
   ]
  },
  {
   "cell_type": "markdown",
   "metadata": {},
   "source": [
    "shp.zip -> zip"
   ]
  },
  {
   "cell_type": "code",
   "execution_count": 8,
   "metadata": {},
   "outputs": [
    {
     "name": "stdout",
     "output_type": "stream",
     "text": [
      "gam_conectividad_parches_esenciales_importantes_bripario.shp.zip -> gam_conectividad_parches_esenciales_importantes_bripario.zip\n",
      "gam_conectividad_rutas_conectividad_bosque_bripario.shp.zip -> gam_conectividad_rutas_conectividad_bosque_bripario.zip\n",
      "gam_conectividad_parches_esenciales_importantes_bosque_ma.shp.zip -> gam_conectividad_parches_esenciales_importantes_bosque_ma.zip\n",
      "gam_conectividad_rutas_conectividad_bosque_ma.shp.zip -> gam_conectividad_rutas_conectividad_bosque_ma.zip\n",
      "gam_limite_cbi_maria_aguilar.shp.zip -> gam_limite_cbi_maria_aguilar.zip\n",
      "gam_limite_cbi_rio_torres.shp.zip -> gam_limite_cbi_rio_torres.zip\n",
      "gam_limite_corredores.shp.zip -> gam_limite_corredores.zip\n",
      "gam_limite_corredores_cantones.shp.zip -> gam_limite_corredores_cantones.zip\n",
      "gam_limite_curridabat.shp.zip -> gam_limite_curridabat.zip\n",
      "gam_limite_gam.shp.zip -> gam_limite_gam.zip\n",
      "gam_limite_la_union.shp.zip -> gam_limite_la_union.zip\n",
      "gam_limite_montes_de_oca.shp.zip -> gam_limite_montes_de_oca.zip\n",
      "gam_limite_san_jose.shp.zip -> gam_limite_san_jose.zip\n"
     ]
    }
   ],
   "source": [
    "for sub_data_dir in sub_data_dirs:\n",
    "    os.chdir(\"{0}{1}\".format(base_data_dir, sub_data_dir))\n",
    "\n",
    "    # Generación de nuevos archivos ZIP\n",
    "    for shapezipfile in glob.glob(\"*.shp.zip\"):\n",
    "        shapezipfile_name, shapezipfile_extension = os.path.splitext(shapezipfile)\n",
    "        shapefile_name, shapefile_extension = os.path.splitext(shapezipfile_name)\n",
    "        \n",
    "        # Renombramiento .shp.zip -> .zip\n",
    "        # (el driver de GDAL no permite convertir directamente a .zip, solo a shp.zip)\n",
    "        # (los archivos se renombran .zip para que los nombres de los servicios publicados no contengan la extensión .shp)\n",
    "        print(\"{0} -> {1}.zip\".format(shapezipfile, shapefile_name))\n",
    "        os.rename(shapezipfile, \"{0}.zip\".format(shapefile_name))         "
   ]
  },
  {
   "cell_type": "markdown",
   "metadata": {},
   "source": [
    "## Inicialización del archivo con la lista de geoservicios"
   ]
  },
  {
   "cell_type": "code",
   "execution_count": 9,
   "metadata": {},
   "outputs": [],
   "source": [
    "# Texto inicial\n",
    "text = '### Servicios\\n'\n",
    "\n",
    "text += '<table>\\n'\n",
    "text += '\\t<thead>\\n'\n",
    "text += '\\t\\t<tr>\\n'\n",
    "text += '\\t\\t\\t<th>Capa</th><th>ArcGIS Feature Service</th>\\n'\n",
    "text += '\\t\\t</tr>\\n'\n",
    "text += '\\t</thead>\\n'\n",
    "text += '\\t<tbody>\\n'"
   ]
  },
  {
   "cell_type": "markdown",
   "metadata": {},
   "source": [
    "## Publicación de geoservicios"
   ]
  },
  {
   "cell_type": "code",
   "execution_count": 11,
   "metadata": {},
   "outputs": [
    {
     "name": "stdout",
     "output_type": "stream",
     "text": [
      "Contenido agregado:\n",
      "<Item title:\"gam_conectividad_parches_esenciales_importantes_bripario\" type:Shapefile owner:MVargas5>\n",
      "Servicio publicado:\n",
      "<Item title:\"gam_conectividad_parches_esenciales_importantes_bripario\" type:Feature Layer Collection owner:MVargas5>\n",
      "\n",
      "\n",
      "Contenido agregado:\n",
      "<Item title:\"gam_conectividad_rutas_conectividad_bosque_bripario\" type:Shapefile owner:MVargas5>\n",
      "Servicio publicado:\n",
      "<Item title:\"gam_conectividad_rutas_conectividad_bosque_bripario\" type:Feature Layer Collection owner:MVargas5>\n",
      "\n",
      "\n",
      "Contenido agregado:\n",
      "<Item title:\"gam_conectividad_parches_esenciales_importantes_bosque_ma\" type:Shapefile owner:MVargas5>\n",
      "Servicio publicado:\n",
      "<Item title:\"gam_conectividad_parches_esenciales_importantes_bosque_ma\" type:Feature Layer Collection owner:MVargas5>\n",
      "\n",
      "\n",
      "Contenido agregado:\n",
      "<Item title:\"gam_conectividad_rutas_conectividad_bosque_ma\" type:Shapefile owner:MVargas5>\n",
      "Servicio publicado:\n",
      "<Item title:\"gam_conectividad_rutas_conectividad_bosque_ma\" type:Feature Layer Collection owner:MVargas5>\n",
      "\n",
      "\n",
      "Contenido agregado:\n",
      "<Item title:\"gam_limite_cbi_maria_aguilar\" type:Shapefile owner:MVargas5>\n",
      "Servicio publicado:\n",
      "<Item title:\"gam_limite_cbi_maria_aguilar\" type:Feature Layer Collection owner:MVargas5>\n",
      "\n",
      "\n",
      "Contenido agregado:\n",
      "<Item title:\"gam_limite_cbi_rio_torres\" type:Shapefile owner:MVargas5>\n",
      "Servicio publicado:\n",
      "<Item title:\"gam_limite_cbi_rio_torres\" type:Feature Layer Collection owner:MVargas5>\n",
      "\n",
      "\n",
      "Contenido agregado:\n",
      "<Item title:\"gam_limite_corredores\" type:Shapefile owner:MVargas5>\n",
      "Servicio publicado:\n",
      "<Item title:\"gam_limite_corredores\" type:Feature Layer Collection owner:MVargas5>\n",
      "\n",
      "\n",
      "Contenido agregado:\n",
      "<Item title:\"gam_limite_corredores_cantones\" type:Shapefile owner:MVargas5>\n",
      "Servicio publicado:\n",
      "<Item title:\"gam_limite_corredores_cantones\" type:Feature Layer Collection owner:MVargas5>\n",
      "\n",
      "\n",
      "Contenido agregado:\n",
      "<Item title:\"gam_limite_curridabat\" type:Shapefile owner:MVargas5>\n",
      "Servicio publicado:\n",
      "<Item title:\"gam_limite_curridabat\" type:Feature Layer Collection owner:MVargas5>\n",
      "\n",
      "\n",
      "Contenido agregado:\n",
      "<Item title:\"gam_limite_gam\" type:Shapefile owner:MVargas5>\n",
      "Servicio publicado:\n",
      "<Item title:\"gam_limite_gam\" type:Feature Layer Collection owner:MVargas5>\n",
      "\n",
      "\n",
      "Contenido agregado:\n",
      "<Item title:\"gam_limite_la_union\" type:Shapefile owner:MVargas5>\n",
      "Servicio publicado:\n",
      "<Item title:\"gam_limite_la_union\" type:Feature Layer Collection owner:MVargas5>\n",
      "\n",
      "\n",
      "Contenido agregado:\n",
      "<Item title:\"gam_limite_montes_de_oca\" type:Shapefile owner:MVargas5>\n",
      "Servicio publicado:\n",
      "<Item title:\"gam_limite_montes_de_oca\" type:Feature Layer Collection owner:MVargas5>\n",
      "\n",
      "\n",
      "Contenido agregado:\n",
      "<Item title:\"gam_limite_san_jose\" type:Shapefile owner:MVargas5>\n",
      "Servicio publicado:\n",
      "<Item title:\"gam_limite_san_jose\" type:Feature Layer Collection owner:MVargas5>\n",
      "\n",
      "\n"
     ]
    }
   ],
   "source": [
    "for sub_data_dir in sub_data_dirs:\n",
    "    os.chdir(\"{0}{1}\".format(base_data_dir, sub_data_dir))\n",
    "    \n",
    "    for zipfile in glob.glob(\"*.zip\"):\n",
    "        zipfile_name, zipfile_extension = os.path.splitext(zipfile) \n",
    "           \n",
    "        item_properties = {\n",
    "            'title': \"{0}\".format(zipfile_name),\n",
    "            'description': \"{0}\".format(zipfile_name),\n",
    "            'tags': 'gam',\n",
    "            'type': 'Shapefile',\n",
    "            'overwrite': True\n",
    "        }\n",
    "        \n",
    "        data = \"{0}{1}{2}\".format(base_data_dir, sub_data_dir, zipfile)\n",
    "        \n",
    "        content_added = gis.content.add(item_properties, data=data, folder=\"GAM\")\n",
    "        print(\"Contenido agregado:\\n{0}\".format(content_added))        \n",
    "        \n",
    "        service_published = content_added.publish()\n",
    "        service_published.share(everyone=True)\n",
    "        print(\"Servicio publicado:\\n{0}\".format(service_published))\n",
    "        \n",
    "        print(\"\\n\")\n",
    "        \n",
    "        text += \"\\t\\t<tr>\\n\"\n",
    "        text += \"\\t\\t\\t<td>{0}</td><td>{1}</td>\\n\".format(zipfile_name, service_published.url)\n",
    "        text += '\\t\\t</tr>\\n'"
   ]
  },
  {
   "cell_type": "markdown",
   "metadata": {},
   "source": [
    "## Finalización y escritura del archivo con la lista de geoservicios"
   ]
  },
  {
   "cell_type": "code",
   "execution_count": 12,
   "metadata": {},
   "outputs": [],
   "source": [
    "text += '\\t</tbody>\\n'\n",
    "text += '</table>\\n'\n",
    "\n",
    "output = text\n",
    "outputObject = open(services_file_name, 'wt', encoding='utf-8')\n",
    "outputObject.write(output)\n",
    "outputObject.close()"
   ]
  },
  {
   "cell_type": "code",
   "execution_count": null,
   "metadata": {},
   "outputs": [],
   "source": []
  }
 ],
 "metadata": {
  "kernelspec": {
   "display_name": "Python 3",
   "language": "python",
   "name": "python3"
  },
  "language_info": {
   "codemirror_mode": {
    "name": "ipython",
    "version": 3
   },
   "file_extension": ".py",
   "mimetype": "text/x-python",
   "name": "python",
   "nbconvert_exporter": "python",
   "pygments_lexer": "ipython3",
   "version": "3.8.6"
  }
 },
 "nbformat": 4,
 "nbformat_minor": 4
}
