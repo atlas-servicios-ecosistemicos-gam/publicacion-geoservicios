{
 "cells": [
  {
   "cell_type": "markdown",
   "metadata": {},
   "source": [
    "# Publicación de geoservicios"
   ]
  },
  {
   "cell_type": "markdown",
   "metadata": {},
   "source": [
    "**NOTA IMPORTANTE:** **Este notebook solamente funciona en Windows. Las pruebas en Ubuntu no dieron resultado.**"
   ]
  },
  {
   "cell_type": "code",
   "execution_count": 1,
   "metadata": {},
   "outputs": [],
   "source": [
    "import os\n",
    "import glob\n",
    "import subprocess\n",
    "\n",
    "from IPython.display import display\n",
    "\n",
    "from arcgis.gis import GIS"
   ]
  },
  {
   "cell_type": "markdown",
   "metadata": {},
   "source": [
    "## Funciones de uso general"
   ]
  },
  {
   "cell_type": "code",
   "execution_count": 2,
   "metadata": {},
   "outputs": [],
   "source": [
    "def subdir_prefix(subdir):\n",
    "    if (subdir == \"CONECTIVIDAD_GAM/CORREDORES/\"):\n",
    "        return \"gam_corredores_\"\n",
    "    elif (subdir == \"CONECTIVIDAD_GAM/GAM/\"):\n",
    "        return \"gam_\"\n",
    "    elif (subdir == \"OTROS/LIMITES/\"):\n",
    "        return \"gam_\"    \n",
    "    else:\n",
    "        return \"\""
   ]
  },
  {
   "cell_type": "markdown",
   "metadata": {},
   "source": [
    "## Conexión al servidor"
   ]
  },
  {
   "cell_type": "code",
   "execution_count": 4,
   "metadata": {},
   "outputs": [],
   "source": [
    "# Credenciales para ingresar al servidor ArcGIS Online\n",
    "#username = \"usuario\"\n",
    "#password = \"clave\"\n",
    "username = \"MVargas5\"\n",
    "password = \"Mfvd_15688087\"\n",
    "\n",
    "# Servidor ArcGIS Online\n",
    "gis = GIS(\"https://geocatie.maps.arcgis.com/\", username, password)"
   ]
  },
  {
   "cell_type": "markdown",
   "metadata": {},
   "source": [
    "## Rutas de directorios y archivos"
   ]
  },
  {
   "cell_type": "code",
   "execution_count": 5,
   "metadata": {},
   "outputs": [],
   "source": [
    "# Ruta base\n",
    "#base_dir = \"C:/Users/mfvargas/atlas-servicios-ecosistemicos-gam/publicacion-geoservicios/\"\n",
    "#basedir = \"/\"\n",
    "basedir = \"/home/mfvargas/atlas-servicios-ecosistemicos-gam/datos-fuentes-originales/\"\n",
    "\n",
    "# Lista de directorios\n",
    "subdirs = [\"infraestructura-verde/cbima/\",\n",
    "           \"conectividad/cbima/\",\n",
    "           \"uso-tierra/gam/\",\n",
    "           \"limites/\"]\n",
    "\n",
    "outFileName = \"{0}servicios.md\".format(path)"
   ]
  },
  {
   "cell_type": "markdown",
   "metadata": {},
   "source": [
    "## Limpieza de archivos generados previamente"
   ]
  },
  {
   "cell_type": "code",
   "execution_count": 6,
   "metadata": {},
   "outputs": [],
   "source": [
    "for subdir in subdirs:\n",
    "    os.chdir(\"{0}{1}\".format(path, subdir))\n",
    "    \n",
    "    # Borrado de archivos ZIP generados previamente\n",
    "    for zipfile in glob.glob('*.zip'):\n",
    "        try:\n",
    "            os.remove(zipfile)\n",
    "        except:\n",
    "            print(\"Error al borrar el archivo:\", zipfile)"
   ]
  },
  {
   "cell_type": "markdown",
   "metadata": {},
   "source": [
    "## Conversión de formatos"
   ]
  },
  {
   "cell_type": "markdown",
   "metadata": {},
   "source": [
    "shp -> shp.zip"
   ]
  },
  {
   "cell_type": "code",
   "execution_count": 7,
   "metadata": {},
   "outputs": [
    {
     "name": "stdout",
     "output_type": "stream",
     "text": [
      "PARCHES_ESENCIALES_IMPORTANTES_BOSQUE.shp -> gam_corredores_parches_esenciales_importantes_bosque.shp.zip\n",
      "PARCHES_ESENCIALES_IMPORTANTES_BOSQUE_BRIPARIO.shp -> gam_corredores_parches_esenciales_importantes_bosque_bripario.shp.zip\n",
      "PARCHES_ESENCIALES_IMPORTANTES_BRIPARIO.shp -> gam_corredores_parches_esenciales_importantes_bripario.shp.zip\n",
      "PARCHES_ESENCIALES_IMPORTANTES_MIGRATORIAS.shp -> gam_corredores_parches_esenciales_importantes_migratorias.shp.zip\n",
      "PARCHES_ESENCIALES_IMPORTANTES_OTRAS.shp -> gam_corredores_parches_esenciales_importantes_otras.shp.zip\n",
      "RUTAS_CONECTIVDAD_BRIPARIO.shp -> gam_corredores_rutas_conectivdad_bripario.shp.zip\n",
      "RUTAS_CONECTIVIDAD_BOSQUE.shp -> gam_corredores_rutas_conectividad_bosque.shp.zip\n",
      "RUTAS_CONECTIVIDAD_BOSQUE_BRIPARIO.shp -> gam_corredores_rutas_conectividad_bosque_bripario.shp.zip\n",
      "RUTAS_CONECTIVIDAD_MIGRATORIAS.shp -> gam_corredores_rutas_conectividad_migratorias.shp.zip\n",
      "RUTAS_CONECTIVIDAD_OTRAS.shp -> gam_corredores_rutas_conectividad_otras.shp.zip\n",
      "PARCHES_ESENCIALES_IMPORTANTES_BOSQUE.shp -> gam_parches_esenciales_importantes_bosque.shp.zip\n",
      "PARCHES_ESENCIALES_IMPORTANTES_BOSQUE_BRIPARIO.shp -> gam_parches_esenciales_importantes_bosque_bripario.shp.zip\n",
      "PARCHES_ESENCIALES_IMPORTANTES_BOSQUE_BRIPARIO_MERC.shp -> gam_parches_esenciales_importantes_bosque_bripario_merc.shp.zip\n",
      "PARCHES_ESENCIALES_IMPORTANTES_BRIPARIO.shp -> gam_parches_esenciales_importantes_bripario.shp.zip\n",
      "PARCHES_ESENCIALES_PRIORITARIOS_OTROS.shp -> gam_parches_esenciales_prioritarios_otros.shp.zip\n",
      "PARCHES_IMPORTANTES_ESENCIALES_MIGRATORIAS.shp -> gam_parches_importantes_esenciales_migratorias.shp.zip\n",
      "RUTAS_CONECTIVIDAD_BOSQUE.shp -> gam_rutas_conectividad_bosque.shp.zip\n",
      "RUTAS_CONECTIVIDAD_BOSQUE_BRIPARIO.shp -> gam_rutas_conectividad_bosque_bripario.shp.zip\n",
      "RUTAS_CONECTIVIDAD_BRIPARIO.shp -> gam_rutas_conectividad_bripario.shp.zip\n",
      "RUTAS_CONECTIVIDAD_MIGRATORIAS.shp -> gam_rutas_conectividad_migratorias.shp.zip\n",
      "RUTAS_CONECTIVIDAD_OTRAS.shp -> gam_rutas_conectividad_otras.shp.zip\n",
      "limite_CBI_Maria_Aguilar.shp -> gam_limite_cbi_maria_aguilar.shp.zip\n",
      "Limite_CBI_Rio_Torres.shp -> gam_limite_cbi_rio_torres.shp.zip\n",
      "Limite_corredores.shp -> gam_limite_corredores.shp.zip\n",
      "Limite_corredores_cantones.shp -> gam_limite_corredores_cantones.shp.zip\n",
      "Limite_Curridabat.shp -> gam_limite_curridabat.shp.zip\n",
      "Limite_GAM.shp -> gam_limite_gam.shp.zip\n",
      "Limite_La_Union.shp -> gam_limite_la_union.shp.zip\n",
      "limite_montes_de_oca.shp -> gam_limite_montes_de_oca.shp.zip\n",
      "Limite_San_Jose.shp -> gam_limite_san_jose.shp.zip\n"
     ]
    }
   ],
   "source": [
    "for subdir in subdirs:\n",
    "    os.chdir(\"{0}{1}\".format(path, subdir)) \n",
    "\n",
    "    # Generación de nuevos archivos ZIP\n",
    "    for shapefile in glob.glob(\"*.shp\"):\n",
    "        shapefile_name, shapefile_extension = os.path.splitext(shapefile)\n",
    "        \n",
    "        # Transformación de formato: .shp -> .shp.zip\n",
    "        print(\"{1} -> {0}{2}.zip\".format(subdir_prefix(subdir), shapefile, shapefile.lower()))     \n",
    "        subprocess.call(\n",
    "            'ogr2ogr -f \"ESRI Shapefile\" -nln {0}{1} -t_srs EPSG:4326 -makevalid {0}{1}.shp.zip {2}'.format(subdir_prefix(subdir), shapefile_name.lower(), shapefile), \n",
    "            shell=True)"
   ]
  },
  {
   "cell_type": "markdown",
   "metadata": {},
   "source": [
    "shp.zip -> zip"
   ]
  },
  {
   "cell_type": "code",
   "execution_count": 8,
   "metadata": {},
   "outputs": [
    {
     "name": "stdout",
     "output_type": "stream",
     "text": [
      "gam_corredores_parches_esenciales_importantes_bosque.shp.zip -> gam_corredores_parches_esenciales_importantes_bosque.zip\n",
      "gam_corredores_parches_esenciales_importantes_bosque_bripario.shp.zip -> gam_corredores_parches_esenciales_importantes_bosque_bripario.zip\n",
      "gam_corredores_parches_esenciales_importantes_bripario.shp.zip -> gam_corredores_parches_esenciales_importantes_bripario.zip\n",
      "gam_corredores_parches_esenciales_importantes_migratorias.shp.zip -> gam_corredores_parches_esenciales_importantes_migratorias.zip\n",
      "gam_corredores_parches_esenciales_importantes_otras.shp.zip -> gam_corredores_parches_esenciales_importantes_otras.zip\n",
      "gam_corredores_rutas_conectivdad_bripario.shp.zip -> gam_corredores_rutas_conectivdad_bripario.zip\n",
      "gam_corredores_rutas_conectividad_bosque.shp.zip -> gam_corredores_rutas_conectividad_bosque.zip\n",
      "gam_corredores_rutas_conectividad_bosque_bripario.shp.zip -> gam_corredores_rutas_conectividad_bosque_bripario.zip\n",
      "gam_corredores_rutas_conectividad_migratorias.shp.zip -> gam_corredores_rutas_conectividad_migratorias.zip\n",
      "gam_corredores_rutas_conectividad_otras.shp.zip -> gam_corredores_rutas_conectividad_otras.zip\n",
      "gam_parches_esenciales_importantes_bosque.shp.zip -> gam_parches_esenciales_importantes_bosque.zip\n",
      "gam_parches_esenciales_importantes_bosque_bripario.shp.zip -> gam_parches_esenciales_importantes_bosque_bripario.zip\n",
      "gam_parches_esenciales_importantes_bosque_bripario_merc.shp.zip -> gam_parches_esenciales_importantes_bosque_bripario_merc.zip\n",
      "gam_parches_esenciales_importantes_bripario.shp.zip -> gam_parches_esenciales_importantes_bripario.zip\n",
      "gam_parches_esenciales_prioritarios_otros.shp.zip -> gam_parches_esenciales_prioritarios_otros.zip\n",
      "gam_parches_importantes_esenciales_migratorias.shp.zip -> gam_parches_importantes_esenciales_migratorias.zip\n",
      "gam_rutas_conectividad_bosque.shp.zip -> gam_rutas_conectividad_bosque.zip\n",
      "gam_rutas_conectividad_bosque_bripario.shp.zip -> gam_rutas_conectividad_bosque_bripario.zip\n",
      "gam_rutas_conectividad_bripario.shp.zip -> gam_rutas_conectividad_bripario.zip\n",
      "gam_rutas_conectividad_migratorias.shp.zip -> gam_rutas_conectividad_migratorias.zip\n",
      "gam_rutas_conectividad_otras.shp.zip -> gam_rutas_conectividad_otras.zip\n",
      "gam_limite_cbi_maria_aguilar.shp.zip -> gam_limite_cbi_maria_aguilar.zip\n",
      "gam_limite_cbi_rio_torres.shp.zip -> gam_limite_cbi_rio_torres.zip\n",
      "gam_limite_corredores.shp.zip -> gam_limite_corredores.zip\n",
      "gam_limite_corredores_cantones.shp.zip -> gam_limite_corredores_cantones.zip\n",
      "gam_limite_curridabat.shp.zip -> gam_limite_curridabat.zip\n",
      "gam_limite_gam.shp.zip -> gam_limite_gam.zip\n",
      "gam_limite_la_union.shp.zip -> gam_limite_la_union.zip\n",
      "gam_limite_montes_de_oca.shp.zip -> gam_limite_montes_de_oca.zip\n",
      "gam_limite_san_jose.shp.zip -> gam_limite_san_jose.zip\n"
     ]
    }
   ],
   "source": [
    "for subdir in subdirs:\n",
    "    os.chdir(\"{0}{1}\".format(path, subdir)) \n",
    "\n",
    "    # Generación de nuevos archivos ZIP\n",
    "    for shapezipfile in glob.glob(\"*.shp.zip\"):\n",
    "        shapezipfile_name, shapezipfile_extension = os.path.splitext(shapezipfile)\n",
    "        shapefile_name, shapefile_extension = os.path.splitext(shapezipfile_name)\n",
    "        \n",
    "        # Renombramiento .shp.zip -> .zip\n",
    "        # (el driver de GDAL no permite convertir directamente a .zip, solo a shp.zip)\n",
    "        # (los archivos se renombran .zip para que los nombres de los servicios publicados no contengan la extensión .shp)\n",
    "        print(\"{0} -> {1}.zip\".format(shapezipfile, shapefile_name))\n",
    "        os.rename(shapezipfile, \"{0}.zip\".format(shapefile_name))         "
   ]
  },
  {
   "cell_type": "markdown",
   "metadata": {},
   "source": [
    "## Inicialización del archivo con la lista de geoservicios"
   ]
  },
  {
   "cell_type": "code",
   "execution_count": 9,
   "metadata": {},
   "outputs": [],
   "source": [
    "# Texto inicial\n",
    "text = '### Servicios\\n'\n",
    "\n",
    "text += '<table>\\n'\n",
    "text += '\\t<thead>\\n'\n",
    "text += '\\t\\t<tr>\\n'\n",
    "text += '\\t\\t\\t<th>Capa</th><th>ArcGIS Feature Service</th>\\n'\n",
    "text += '\\t\\t</tr>\\n'\n",
    "text += '\\t</thead>\\n'\n",
    "text += '\\t<tbody>\\n'"
   ]
  },
  {
   "cell_type": "markdown",
   "metadata": {},
   "source": [
    "## Publicación de geoservicios"
   ]
  },
  {
   "cell_type": "code",
   "execution_count": 10,
   "metadata": {},
   "outputs": [
    {
     "name": "stdout",
     "output_type": "stream",
     "text": [
      "Contenido agregado:\n",
      "<Item title:\"gam_corredores_parches_esenciales_importantes_bosque\" type:Shapefile owner:MVargas5>\n",
      "Servicio publicado:\n",
      "<Item title:\"gam_corredores_parches_esenciales_importantes_bosque\" type:Feature Layer Collection owner:MVargas5>\n",
      "\n",
      "\n",
      "Contenido agregado:\n",
      "<Item title:\"gam_corredores_parches_esenciales_importantes_bosque_bripario\" type:Shapefile owner:MVargas5>\n",
      "Servicio publicado:\n",
      "<Item title:\"gam_corredores_parches_esenciales_importantes_bosque_bripario\" type:Feature Layer Collection owner:MVargas5>\n",
      "\n",
      "\n",
      "Contenido agregado:\n",
      "<Item title:\"gam_corredores_parches_esenciales_importantes_bripario\" type:Shapefile owner:MVargas5>\n",
      "Servicio publicado:\n",
      "<Item title:\"gam_corredores_parches_esenciales_importantes_bripario\" type:Feature Layer Collection owner:MVargas5>\n",
      "\n",
      "\n",
      "Contenido agregado:\n",
      "<Item title:\"gam_corredores_parches_esenciales_importantes_migratorias\" type:Shapefile owner:MVargas5>\n",
      "Servicio publicado:\n",
      "<Item title:\"gam_corredores_parches_esenciales_importantes_migratorias\" type:Feature Layer Collection owner:MVargas5>\n",
      "\n",
      "\n",
      "Contenido agregado:\n",
      "<Item title:\"gam_corredores_parches_esenciales_importantes_otras\" type:Shapefile owner:MVargas5>\n",
      "Servicio publicado:\n",
      "<Item title:\"gam_corredores_parches_esenciales_importantes_otras\" type:Feature Layer Collection owner:MVargas5>\n",
      "\n",
      "\n",
      "Contenido agregado:\n",
      "<Item title:\"gam_corredores_rutas_conectivdad_bripario\" type:Shapefile owner:MVargas5>\n",
      "Servicio publicado:\n",
      "<Item title:\"gam_corredores_rutas_conectivdad_bripario\" type:Feature Layer Collection owner:MVargas5>\n",
      "\n",
      "\n",
      "Contenido agregado:\n",
      "<Item title:\"gam_corredores_rutas_conectividad_bosque\" type:Shapefile owner:MVargas5>\n",
      "Servicio publicado:\n",
      "<Item title:\"gam_corredores_rutas_conectividad_bosque\" type:Feature Layer Collection owner:MVargas5>\n",
      "\n",
      "\n",
      "Contenido agregado:\n",
      "<Item title:\"gam_corredores_rutas_conectividad_bosque_bripario\" type:Shapefile owner:MVargas5>\n",
      "Servicio publicado:\n",
      "<Item title:\"gam_corredores_rutas_conectividad_bosque_bripario\" type:Feature Layer Collection owner:MVargas5>\n",
      "\n",
      "\n",
      "Contenido agregado:\n",
      "<Item title:\"gam_corredores_rutas_conectividad_migratorias\" type:Shapefile owner:MVargas5>\n",
      "Servicio publicado:\n",
      "<Item title:\"gam_corredores_rutas_conectividad_migratorias\" type:Feature Layer Collection owner:MVargas5>\n",
      "\n",
      "\n",
      "Contenido agregado:\n",
      "<Item title:\"gam_corredores_rutas_conectividad_otras\" type:Shapefile owner:MVargas5>\n",
      "Servicio publicado:\n",
      "<Item title:\"gam_corredores_rutas_conectividad_otras\" type:Feature Layer Collection owner:MVargas5>\n",
      "\n",
      "\n",
      "Contenido agregado:\n",
      "<Item title:\"gam_parches_esenciales_importantes_bosque\" type:Shapefile owner:MVargas5>\n",
      "Servicio publicado:\n",
      "<Item title:\"gam_parches_esenciales_importantes_bosque\" type:Feature Layer Collection owner:MVargas5>\n",
      "\n",
      "\n",
      "Contenido agregado:\n",
      "<Item title:\"gam_parches_esenciales_importantes_bosque_bripario\" type:Shapefile owner:MVargas5>\n",
      "Servicio publicado:\n",
      "<Item title:\"gam_parches_esenciales_importantes_bosque_bripario\" type:Feature Layer Collection owner:MVargas5>\n",
      "\n",
      "\n",
      "Contenido agregado:\n",
      "<Item title:\"gam_parches_esenciales_importantes_bosque_bripario_merc\" type:Shapefile owner:MVargas5>\n",
      "Servicio publicado:\n",
      "<Item title:\"gam_parches_esenciales_importantes_bosque_bripario_merc\" type:Feature Layer Collection owner:MVargas5>\n",
      "\n",
      "\n",
      "Contenido agregado:\n",
      "<Item title:\"gam_parches_esenciales_importantes_bripario\" type:Shapefile owner:MVargas5>\n",
      "Servicio publicado:\n",
      "<Item title:\"gam_parches_esenciales_importantes_bripario\" type:Feature Layer Collection owner:MVargas5>\n",
      "\n",
      "\n",
      "Contenido agregado:\n",
      "<Item title:\"gam_parches_esenciales_prioritarios_otros\" type:Shapefile owner:MVargas5>\n",
      "Servicio publicado:\n",
      "<Item title:\"gam_parches_esenciales_prioritarios_otros\" type:Feature Layer Collection owner:MVargas5>\n",
      "\n",
      "\n",
      "Contenido agregado:\n",
      "<Item title:\"gam_parches_importantes_esenciales_migratorias\" type:Shapefile owner:MVargas5>\n",
      "Servicio publicado:\n",
      "<Item title:\"gam_parches_importantes_esenciales_migratorias\" type:Feature Layer Collection owner:MVargas5>\n",
      "\n",
      "\n",
      "Contenido agregado:\n",
      "<Item title:\"gam_rutas_conectividad_bosque\" type:Shapefile owner:MVargas5>\n",
      "Servicio publicado:\n",
      "<Item title:\"gam_rutas_conectividad_bosque\" type:Feature Layer Collection owner:MVargas5>\n",
      "\n",
      "\n",
      "Contenido agregado:\n",
      "<Item title:\"gam_rutas_conectividad_bosque_bripario\" type:Shapefile owner:MVargas5>\n",
      "Servicio publicado:\n",
      "<Item title:\"gam_rutas_conectividad_bosque_bripario\" type:Feature Layer Collection owner:MVargas5>\n",
      "\n",
      "\n",
      "Contenido agregado:\n",
      "<Item title:\"gam_rutas_conectividad_bripario\" type:Shapefile owner:MVargas5>\n",
      "Servicio publicado:\n",
      "<Item title:\"gam_rutas_conectividad_bripario\" type:Feature Layer Collection owner:MVargas5>\n",
      "\n",
      "\n",
      "Contenido agregado:\n",
      "<Item title:\"gam_rutas_conectividad_migratorias\" type:Shapefile owner:MVargas5>\n",
      "Servicio publicado:\n",
      "<Item title:\"gam_rutas_conectividad_migratorias\" type:Feature Layer Collection owner:MVargas5>\n",
      "\n",
      "\n",
      "Contenido agregado:\n",
      "<Item title:\"gam_rutas_conectividad_otras\" type:Shapefile owner:MVargas5>\n",
      "Servicio publicado:\n",
      "<Item title:\"gam_rutas_conectividad_otras\" type:Feature Layer Collection owner:MVargas5>\n",
      "\n",
      "\n",
      "Contenido agregado:\n",
      "<Item title:\"gam_limite_cbi_maria_aguilar\" type:Shapefile owner:MVargas5>\n",
      "Servicio publicado:\n",
      "<Item title:\"gam_limite_cbi_maria_aguilar\" type:Feature Layer Collection owner:MVargas5>\n",
      "\n",
      "\n",
      "Contenido agregado:\n",
      "<Item title:\"gam_limite_cbi_rio_torres\" type:Shapefile owner:MVargas5>\n",
      "Servicio publicado:\n",
      "<Item title:\"gam_limite_cbi_rio_torres\" type:Feature Layer Collection owner:MVargas5>\n",
      "\n",
      "\n",
      "Contenido agregado:\n",
      "<Item title:\"gam_limite_corredores\" type:Shapefile owner:MVargas5>\n",
      "Servicio publicado:\n",
      "<Item title:\"gam_limite_corredores\" type:Feature Layer Collection owner:MVargas5>\n",
      "\n",
      "\n",
      "Contenido agregado:\n",
      "<Item title:\"gam_limite_corredores_cantones\" type:Shapefile owner:MVargas5>\n",
      "Servicio publicado:\n",
      "<Item title:\"gam_limite_corredores_cantones\" type:Feature Layer Collection owner:MVargas5>\n",
      "\n",
      "\n",
      "Contenido agregado:\n",
      "<Item title:\"gam_limite_curridabat\" type:Shapefile owner:MVargas5>\n",
      "Servicio publicado:\n",
      "<Item title:\"gam_limite_curridabat\" type:Feature Layer Collection owner:MVargas5>\n",
      "\n",
      "\n",
      "Contenido agregado:\n",
      "<Item title:\"gam_limite_gam\" type:Shapefile owner:MVargas5>\n",
      "Servicio publicado:\n",
      "<Item title:\"gam_limite_gam\" type:Feature Layer Collection owner:MVargas5>\n",
      "\n",
      "\n",
      "Contenido agregado:\n",
      "<Item title:\"gam_limite_la_union\" type:Shapefile owner:MVargas5>\n",
      "Servicio publicado:\n",
      "<Item title:\"gam_limite_la_union\" type:Feature Layer Collection owner:MVargas5>\n",
      "\n",
      "\n",
      "Contenido agregado:\n",
      "<Item title:\"gam_limite_montes_de_oca\" type:Shapefile owner:MVargas5>\n",
      "Servicio publicado:\n",
      "<Item title:\"gam_limite_montes_de_oca\" type:Feature Layer Collection owner:MVargas5>\n",
      "\n",
      "\n",
      "Contenido agregado:\n",
      "<Item title:\"gam_limite_san_jose\" type:Shapefile owner:MVargas5>\n",
      "Servicio publicado:\n",
      "<Item title:\"gam_limite_san_jose\" type:Feature Layer Collection owner:MVargas5>\n",
      "\n",
      "\n"
     ]
    }
   ],
   "source": [
    "for subdir in subdirs:\n",
    "    os.chdir(\"{0}{1}\".format(path, subdir))\n",
    "    \n",
    "    for zipfile in glob.glob(\"*.zip\"):\n",
    "        zipfile_name, zipfile_extension = os.path.splitext(zipfile) \n",
    "           \n",
    "        item_properties = {\n",
    "            'title': \"{0}\".format(zipfile_name),\n",
    "            'description': \"{0}\".format(zipfile_name),\n",
    "            'tags': 'gam',\n",
    "            'type': 'Shapefile',\n",
    "            'overwrite': True\n",
    "        }\n",
    "        \n",
    "        data = \"{0}{1}{2}\".format(path, subdir, zipfile)\n",
    "        \n",
    "        content_added = gis.content.add(item_properties, data=data, folder=\"GAM\")\n",
    "        print(\"Contenido agregado:\\n{0}\".format(content_added))        \n",
    "        \n",
    "        service_published = content_added.publish()\n",
    "        service_published.share(everyone=True)\n",
    "        print(\"Servicio publicado:\\n{0}\".format(service_published))\n",
    "        \n",
    "        print(\"\\n\")\n",
    "        \n",
    "        text += \"\\t\\t<tr>\\n\"\n",
    "        text += \"\\t\\t\\t<td>{0}</td><td>{1}</td>\\n\".format(zipfile_name, service_published.url)\n",
    "        text += '\\t\\t</tr>\\n'"
   ]
  },
  {
   "cell_type": "markdown",
   "metadata": {},
   "source": [
    "## Finalización y escritura del archivo con la lista de geoservicios"
   ]
  },
  {
   "cell_type": "code",
   "execution_count": 11,
   "metadata": {},
   "outputs": [],
   "source": [
    "text += '\\t</tbody>\\n'\n",
    "text += '</table>\\n'\n",
    "\n",
    "output = text\n",
    "outputObject = open(outFileName, 'wt', encoding='utf-8')\n",
    "outputObject.write(output)\n",
    "outputObject.close()"
   ]
  },
  {
   "cell_type": "code",
   "execution_count": null,
   "metadata": {},
   "outputs": [],
   "source": []
  }
 ],
 "metadata": {
  "kernelspec": {
   "display_name": "Python 3",
   "language": "python",
   "name": "python3"
  },
  "language_info": {
   "codemirror_mode": {
    "name": "ipython",
    "version": 3
   },
   "file_extension": ".py",
   "mimetype": "text/x-python",
   "name": "python",
   "nbconvert_exporter": "python",
   "pygments_lexer": "ipython3",
   "version": "3.5.5"
  }
 },
 "nbformat": 4,
 "nbformat_minor": 4
}
