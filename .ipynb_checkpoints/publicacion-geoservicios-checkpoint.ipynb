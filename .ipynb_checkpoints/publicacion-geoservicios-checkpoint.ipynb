{
 "cells": [
  {
   "cell_type": "markdown",
   "metadata": {},
   "source": [
    "# Publicación de geoservicios"
   ]
  },
  {
   "cell_type": "markdown",
   "metadata": {},
   "source": [
    "**NOTA IMPORTANTE:** **Este notebook solamente funciona en Windows. Las pruebas en Ubuntu no dieron resultado.**"
   ]
  },
  {
   "cell_type": "code",
   "execution_count": null,
   "metadata": {},
   "outputs": [],
   "source": [
    "import os\n",
    "import glob\n",
    "import subprocess\n",
    "\n",
    "from IPython.display import display\n",
    "\n",
    "from arcgis.gis import GIS"
   ]
  },
  {
   "cell_type": "markdown",
   "metadata": {},
   "source": [
    "## Funciones de uso general"
   ]
  },
  {
   "cell_type": "code",
   "execution_count": null,
   "metadata": {},
   "outputs": [],
   "source": [
    "def sub_data_dir_prefix(sub_data_dir):\n",
    "    if (sub_data_dir in [\"conectividad/gam/\"]):\n",
    "        return \"gam_conectividad_\"\n",
    "    elif (sub_data_dir in [\"conectividad/cbima/bosque-bosque-ripario/\", \"conectividad/cbima/bosque/\",\n",
    "                           \"conectividad/cbima/bosque-ripario/\", \"conectividad/cbima/migratorias/\",\n",
    "                           \"conectividad/cbima/otras/\"]):\n",
    "        return \"gam_conectividad_\"\n",
    "    elif (sub_data_dir in [\"conectividad/cbirt/bosque-bosque-ripario/\", \"conectividad/cbirt/bosque/\",\n",
    "                           \"conectividad/cbirt/bosque-ripario/\", \"conectividad/cbirt/migratorias/\",\n",
    "                           \"conectividad/cbirt/otras/\"]):\n",
    "        return \"gam_conectividad_\"    \n",
    "    elif (sub_data_dir in [\"conectividad/curridabat/bosque-bosque-ripario/\", \"conectividad/curridabat/bosque/\",\n",
    "                           \"conectividad/curridabat/bosque-ripario/\", \"conectividad/curridabat/migratorias/\",\n",
    "                           \"conectividad/curridabat/otras/\"]):\n",
    "        return \"gam_conectividad_\"       \n",
    "    elif (sub_data_dir in [\"conectividad/launion/bosque-bosque-ripario/\", \"conectividad/launion/bosque/\",\n",
    "                           \"conectividad/launion/bosque-ripario/\", \"conectividad/launion/migratorias/\",\n",
    "                           \"conectividad/launion/otras/\"]):\n",
    "        return \"gam_conectividad_\"       \n",
    "    elif (sub_data_dir in [\"conectividad/montesdeoca/bosque-bosque-ripario/\", \"conectividad/montesdeoca/bosque/\",\n",
    "                           \"conectividad/montesdeoca/bosque-ripario/\", \"conectividad/montesdeoca/migratorias/\",\n",
    "                           \"conectividad/montesdeoca/otras/\"]):\n",
    "        return \"gam_conectividad_\"\n",
    "    elif (sub_data_dir in [\"conectividad/sanjose/bosque-bosque-ripario/\", \"conectividad/sanjose/bosque/\",\n",
    "                           \"conectividad/sanjose/bosque-ripario/\", \"conectividad/sanjose/migratorias/\",\n",
    "                           \"conectividad/sanjose/otras/\"]):\n",
    "        return \"gam_conectividad_\"    \n",
    "    elif (sub_data_dir in [\"conectividad/corredores/bosque-bosque-ripario/\", \"conectividad/corredores/bosque/\",\n",
    "                           \"conectividad/corredores/bosque-ripario/\", \"conectividad/corredores/migratorias/\",\n",
    "                           \"conectividad/corredores/otras/\"]):\n",
    "        return \"gam_conectividad_\"     \n",
    "    elif (sub_data_dir == \"limites/\"):\n",
    "        return \"gam_\"        \n",
    "    else:\n",
    "        return \"\""
   ]
  },
  {
   "cell_type": "markdown",
   "metadata": {},
   "source": [
    "## Conexión al servidor"
   ]
  },
  {
   "cell_type": "code",
   "execution_count": null,
   "metadata": {},
   "outputs": [],
   "source": [
    "# Credenciales para ingresar al servidor ArcGIS Online\n",
    "#username = \"usuario\"\n",
    "#password = \"clave\"\n",
    "\n",
    "# Servidor ArcGIS Online\n",
    "gis = GIS(\"https://geocatie.maps.arcgis.com/\", username, password)"
   ]
  },
  {
   "cell_type": "markdown",
   "metadata": {},
   "source": [
    "## Rutas de directorios y archivos"
   ]
  },
  {
   "cell_type": "code",
   "execution_count": null,
   "metadata": {},
   "outputs": [],
   "source": [
    "# Ruta base\n",
    "base_data_dir = \"C:/Users/mfvargas/atlas-servicios-ecosistemicos-gam/datos-fuentes-originales/\"\n",
    "\n",
    "# Lista de directorios (se supone que son los mismos de la función sub_data_dir_prefix())\n",
    "sub_data_dirs = [\"conectividad/gam/\",\n",
    "                 \"conectividad/cbima/bosque-bosque-ripario/\", \"conectividad/cbima/bosque/\",\n",
    "                 \"conectividad/cbima/bosque-ripario/\", \"conectividad/cbima/migratorias/\",\n",
    "                 \"conectividad/cbima/otras/\",\n",
    "                 \"conectividad/cbirt/bosque-bosque-ripario/\", \"conectividad/cbirt/bosque/\",\n",
    "                 \"conectividad/cbirt/bosque-ripario/\", \"conectividad/cbirt/migratorias/\",\n",
    "                 \"conectividad/cbirt/otras/\",   \n",
    "                 \"conectividad/curridabat/bosque-bosque-ripario/\", \"conectividad/curridabat/bosque/\",\n",
    "                 \"conectividad/curridabat/bosque-ripario/\", \"conectividad/curridabat/migratorias/\",\n",
    "                 \"conectividad/curridabat/otras/\",\n",
    "                 \"conectividad/launion/bosque-bosque-ripario/\", \"conectividad/launion/bosque/\",\n",
    "                 \"conectividad/launion/bosque-ripario/\", \"conectividad/launion/migratorias/\",\n",
    "                 \"conectividad/launion/otras/\",   \n",
    "                 \"conectividad/montesdeoca/bosque-bosque-ripario/\", \"conectividad/montesdeoca/bosque/\",\n",
    "                 \"conectividad/montesdeoca/bosque-ripario/\", \"conectividad/montesdeoca/migratorias/\",\n",
    "                 \"conectividad/montesdeoca/otras/\",  \n",
    "                 \"conectividad/sanjose/bosque-bosque-ripario/\", \"conectividad/sanjose/bosque/\",\n",
    "                 \"conectividad/sanjose/bosque-ripario/\", \"conectividad/sanjose/migratorias/\",\n",
    "                 \"conectividad/sanjose/otras/\",        \n",
    "                 \"conectividad/corredores/bosque-bosque-ripario/\", \"conectividad/corredores/bosque/\",\n",
    "                 \"conectividad/corredores/bosque-ripario/\", \"conectividad/corredores/migratorias/\",\n",
    "                 \"conectividad/corredores/otras/\",                   \n",
    "                 \"limites/\"]\n",
    "\n",
    "services_file_name = \"C:/Users/mfvargas/atlas-servicios-ecosistemicos-gam/publicacion-geoservicios/servicios.md\""
   ]
  },
  {
   "cell_type": "markdown",
   "metadata": {},
   "source": [
    "## Limpieza de archivos generados previamente"
   ]
  },
  {
   "cell_type": "code",
   "execution_count": null,
   "metadata": {},
   "outputs": [],
   "source": [
    "for sub_data_dir in sub_data_dirs:\n",
    "    os.chdir(\"{0}{1}\".format(base_data_dir, sub_data_dir))\n",
    "    \n",
    "    # Borrado de archivos ZIP generados previamente\n",
    "    for zipfile in glob.glob('*.zip'):\n",
    "        try:\n",
    "            os.remove(zipfile)\n",
    "        except:\n",
    "            print(\"Error al borrar el archivo:\", zipfile)"
   ]
  },
  {
   "cell_type": "markdown",
   "metadata": {},
   "source": [
    "## Conversión de formatos"
   ]
  },
  {
   "cell_type": "markdown",
   "metadata": {},
   "source": [
    "shp -> shp.zip"
   ]
  },
  {
   "cell_type": "code",
   "execution_count": null,
   "metadata": {},
   "outputs": [],
   "source": [
    "for sub_data_dir in sub_data_dirs:\n",
    "    os.chdir(\"{0}{1}\".format(base_data_dir, sub_data_dir))\n",
    "\n",
    "    # Generación de nuevos archivos ZIP\n",
    "    for shapefile in glob.glob(\"*.shp\"):\n",
    "        shapefile_name, shapefile_extension = os.path.splitext(shapefile)\n",
    "        \n",
    "        # Transformación de formato: .shp -> .shp.zip\n",
    "        print(\"{1} -> {0}{2}.zip\".format(sub_data_dir_prefix(sub_data_dir), shapefile, shapefile.lower()))     \n",
    "        subprocess.call(\n",
    "            'ogr2ogr -f \"ESRI Shapefile\" -nln {0}{1} -t_srs EPSG:4326 -makevalid {0}{1}.shp.zip {2}'.format(sub_data_dir_prefix(sub_data_dir), shapefile_name.lower(), shapefile), \n",
    "            shell=True)"
   ]
  },
  {
   "cell_type": "markdown",
   "metadata": {},
   "source": [
    "shp.zip -> zip"
   ]
  },
  {
   "cell_type": "code",
   "execution_count": null,
   "metadata": {},
   "outputs": [],
   "source": [
    "for sub_data_dir in sub_data_dirs:\n",
    "    os.chdir(\"{0}{1}\".format(base_data_dir, sub_data_dir))\n",
    "\n",
    "    # Generación de nuevos archivos ZIP\n",
    "    for shapezipfile in glob.glob(\"*.shp.zip\"):\n",
    "        shapezipfile_name, shapezipfile_extension = os.path.splitext(shapezipfile)\n",
    "        shapefile_name, shapefile_extension = os.path.splitext(shapezipfile_name)\n",
    "        \n",
    "        # Renombramiento .shp.zip -> .zip\n",
    "        # (el driver de GDAL no permite convertir directamente a .zip, solo a shp.zip)\n",
    "        # (los archivos se renombran .zip para que los nombres de los servicios publicados no contengan la extensión .shp)\n",
    "        print(\"{0} -> {1}.zip\".format(shapezipfile, shapefile_name))\n",
    "        os.rename(shapezipfile, \"{0}.zip\".format(shapefile_name))         "
   ]
  },
  {
   "cell_type": "markdown",
   "metadata": {},
   "source": [
    "## Inicialización del archivo con la lista de geoservicios"
   ]
  },
  {
   "cell_type": "code",
   "execution_count": null,
   "metadata": {},
   "outputs": [],
   "source": [
    "# Texto inicial\n",
    "text = '### Servicios\\n'\n",
    "\n",
    "text += '<table>\\n'\n",
    "text += '\\t<thead>\\n'\n",
    "text += '\\t\\t<tr>\\n'\n",
    "text += '\\t\\t\\t<th>Capa</th><th>ArcGIS Feature Service</th>\\n'\n",
    "text += '\\t\\t</tr>\\n'\n",
    "text += '\\t</thead>\\n'\n",
    "text += '\\t<tbody>\\n'"
   ]
  },
  {
   "cell_type": "markdown",
   "metadata": {},
   "source": [
    "## Publicación de geoservicios"
   ]
  },
  {
   "cell_type": "code",
   "execution_count": null,
   "metadata": {},
   "outputs": [],
   "source": [
    "for sub_data_dir in sub_data_dirs:\n",
    "    os.chdir(\"{0}{1}\".format(base_data_dir, sub_data_dir))\n",
    "    \n",
    "    for zipfile in glob.glob(\"*.zip\"):\n",
    "        zipfile_name, zipfile_extension = os.path.splitext(zipfile) \n",
    "           \n",
    "        item_properties = {\n",
    "            'title': \"{0}\".format(zipfile_name),\n",
    "            'description': \"{0}\".format(zipfile_name),\n",
    "            'tags': 'gam',\n",
    "            'type': 'Shapefile',\n",
    "            'overwrite': True\n",
    "        }\n",
    "        \n",
    "        data = \"{0}{1}{2}\".format(base_data_dir, sub_data_dir, zipfile)\n",
    "        \n",
    "        content_added = gis.content.add(item_properties, data=data, folder=\"GAM\")\n",
    "        print(\"Contenido agregado:\\n{0}\".format(content_added))        \n",
    "        \n",
    "        service_published = content_added.publish()\n",
    "        service_published.share(everyone=True)\n",
    "        print(\"Servicio publicado:\\n{0}\".format(service_published))\n",
    "        \n",
    "        print(\"\\n\")\n",
    "        \n",
    "        text += \"\\t\\t<tr>\\n\"\n",
    "        text += \"\\t\\t\\t<td>{0}</td><td>{1}</td>\\n\".format(zipfile_name, service_published.url)\n",
    "        text += '\\t\\t</tr>\\n'"
   ]
  },
  {
   "cell_type": "markdown",
   "metadata": {},
   "source": [
    "## Finalización y escritura del archivo con la lista de geoservicios"
   ]
  },
  {
   "cell_type": "code",
   "execution_count": null,
   "metadata": {},
   "outputs": [],
   "source": [
    "text += '\\t</tbody>\\n'\n",
    "text += '</table>\\n'\n",
    "\n",
    "output = text\n",
    "outputObject = open(services_file_name, 'wt', encoding='utf-8')\n",
    "outputObject.write(output)\n",
    "outputObject.close()"
   ]
  },
  {
   "cell_type": "code",
   "execution_count": null,
   "metadata": {},
   "outputs": [],
   "source": []
  }
 ],
 "metadata": {
  "kernelspec": {
   "display_name": "Python 3",
   "language": "python",
   "name": "python3"
  },
  "language_info": {
   "codemirror_mode": {
    "name": "ipython",
    "version": 3
   },
   "file_extension": ".py",
   "mimetype": "text/x-python",
   "name": "python",
   "nbconvert_exporter": "python",
   "pygments_lexer": "ipython3",
   "version": "3.8.6"
  }
 },
 "nbformat": 4,
 "nbformat_minor": 4
}
